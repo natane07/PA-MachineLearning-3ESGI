{
 "cells": [
  {
   "cell_type": "markdown",
   "metadata": {},
   "source": [
    "# Rapport du projet annuel"
   ]
  },
  {
   "cell_type": "markdown",
   "metadata": {},
   "source": [
    "## Auteur\n",
    "- BENDAVID Natane\n",
    "- TARDY Louis\n",
    "- WADE Cheikh Abdourahmane"
   ]
  },
  {
   "cell_type": "markdown",
   "metadata": {},
   "source": [
    "## Problématique \n",
    "\n",
    "Problématiques applicatives : Classification d'images de vêtement, 3 Types :\n",
    "- Chaussures\n",
    "- Haut\n",
    "- Pantalons"
   ]
  },
  {
   "cell_type": "markdown",
   "metadata": {},
   "source": [
    "## Descriptif du rapport\n",
    "Le but de ce rapport est de présenter l’étude des performances de tous les algorithmes et modèles implementés lors de ce projet. \n",
    "\n",
    "Nous metterons en évidence l'impact des différents paramètres des algorithmes étudiés sur la rapidité de convergence de ceux-ci.\n",
    "\n",
    "Dans ce rapport nous mettront en évidence 4 algorithmes de machine learning :\n",
    "\n",
    "- Modèle linéaire\n",
    "- Perceptron Multi Couches\n",
    "- Radial Basis Function Network\n",
    "- SVM \n",
    "\n",
    "L’ensemble de ces modèles et algorithmes sont implémentés en rust (convertie en lib C) de manière à pouvoir être\n",
    "aisément utilisé comme une bibliothèque dynamique manipulée depuis des scripts python\n",
    "\n",
    "Nous étudierons plusieurs cas de test par algorithme implémenté pour démontrer sont n'efficacité ou non selon le problème\n",
    "\n",
    "Nous étudierons des cas de classifications et de régressions"
   ]
  },
  {
   "cell_type": "markdown",
   "metadata": {},
   "source": [
    "## Import de la lib"
   ]
  },
  {
   "cell_type": "code",
   "execution_count": 1,
   "metadata": {},
   "outputs": [],
   "source": [
    "import matplotlib.pyplot as plt\n",
    "import numpy as np\n",
    "from ctypes import *\n",
    "\n",
    "my_dll_path = \"C:/Users/MOI/dev/PA-MachineLearning-3ESGI/Project/Lib/MachineLearning/target/debug/machine_learning_c.dll\"\n",
    "my_lib = CDLL(my_dll_path)"
   ]
  },
  {
   "cell_type": "markdown",
   "metadata": {},
   "source": [
    "## Modèle linéaire\n",
    "\n",
    "Pour implémenter l'algorithme de modelé linéaire nous avons suivie un workflow spécifique pour préparer, entraîner et exploiter les données en sortie :\n",
    "\n",
    "1) Crétion d'un modèle :\n",
    "- Création d'un modèle aléatoire de base, avec des valeurs comprises entre -1 et 1 \n",
    "\n",
    "2) Entrainement du modèle:\n",
    "- Pour la classification : Entrainement du modèle avec la règle de Rosenblatt\n",
    "- Pour la régression : Entrainement du modèle avec la pseudo inverse\n",
    "\n",
    "3) Prédiction des résultats\n",
    "\n",
    "4) Test du modèle"
   ]
  },
  {
   "cell_type": "markdown",
   "metadata": {},
   "source": [
    "### Paramétrage de la lib"
   ]
  },
  {
   "cell_type": "code",
   "execution_count": 2,
   "metadata": {},
   "outputs": [],
   "source": [
    "# Création d'un model\n",
    "my_lib.create_linear_model.restype = c_void_p\n",
    "my_lib.create_linear_model.argtypes = [c_int]\n",
    "# Prédiction d'un model pour la classification\n",
    "my_lib.predict_linear_classification.argtypes = [\n",
    "    c_void_p,\n",
    "    POINTER(c_double),\n",
    "    c_int\n",
    "]\n",
    "my_lib.predict_linear_classification.restype = c_double\n",
    "# Prédiction d'un model pour la régression\n",
    "my_lib.predict_linear_regression.argtypes = [\n",
    "    c_void_p,\n",
    "    POINTER(c_double),\n",
    "    c_int\n",
    "]\n",
    "my_lib.predict_linear_regression.restype = c_double\n",
    "# Entrainement du model pour la classification\n",
    "my_lib.train_linear_model_classification_python.argtypes = [\n",
    "    c_void_p,\n",
    "    POINTER(c_double),\n",
    "    POINTER(c_double),\n",
    "    c_int,\n",
    "    c_int,\n",
    "    c_int,\n",
    "    c_double\n",
    "]\n",
    "my_lib.train_linear_model_classification_python.restype = None\n",
    "# Entrainement du model pour la regression\n",
    "my_lib.train_linear_model_regression_python.argtypes = [\n",
    "    c_void_p,\n",
    "    POINTER(c_double),\n",
    "    POINTER(c_double),\n",
    "    c_int,\n",
    "    c_int\n",
    "]\n",
    "my_lib.train_linear_model_regression_python.restype = None"
   ]
  },
  {
   "cell_type": "markdown",
   "metadata": {},
   "source": [
    "### Classification\n",
    "\n",
    "### Cas d'un test simple\n",
    "Nous commençons à tester notre modèle sur un cas de test assez simple. \n",
    "\n",
    "Le but est de séparer deux points pour pouvoir les classer."
   ]
  },
  {
   "cell_type": "code",
   "execution_count": 20,
   "metadata": {},
   "outputs": [
    {
     "name": "stdout",
     "output_type": "stream",
     "text": [
      "After Training\n",
      "1.0\n",
      "-1.0\n",
      "-1.0\n"
     ]
    },
    {
     "data": {
      "image/png": "[encoded data removed]",
      "text/plain": [
       "<Figure size 432x288 with 1 Axes>"
      ]
     },
     "metadata": {
      "needs_background": "light"
     },
     "output_type": "display_data"
    },
    {
     "data": {
      "text/plain": [
       "<Figure size 432x288 with 0 Axes>"
      ]
     },
     "metadata": {},
     "output_type": "display_data"
    }
   ],
   "source": [
    "# Data\n",
    "X = np.array([\n",
    "      [1, 1],\n",
    "      [2, 3],\n",
    "      [3, 3]\n",
    "], dtype='float64')\n",
    "Y = np.array([\n",
    "      1,\n",
    "      -1,\n",
    "      -1\n",
    "], dtype='float64')\n",
    "flattened_X = X.flatten()\n",
    "#Création du model\n",
    "model = my_lib.create_linear_model(c_int(X.shape[1]))\n",
    "\n",
    "#Entrainement du model\n",
    "my_lib.train_linear_model_classification_python(\n",
    "    model,\n",
    "    flattened_X.ctypes.data_as(POINTER(c_double)),\n",
    "    Y.ctypes.data_as(POINTER(c_double)),\n",
    "    X.shape[0],\n",
    "    X.shape[1],\n",
    "    1000,\n",
    "    0.01\n",
    ")\n",
    "\n",
    "#Prediction du model\n",
    "print(\"After Training\")\n",
    "for inputs_k in X:\n",
    "    print(my_lib.predict_linear_classification(model, inputs_k.ctypes.data_as(POINTER(c_double)), len(inputs_k)))\n",
    "\n",
    "\n",
    "#Test du model\n",
    "test_points = np.array([[i, j] for i in range(50) for j in range(50)], dtype='float64') / 50.0 * 2.0 + 1.0\n",
    "\n",
    "test_points_predicted = np.zeros(len(test_points))\n",
    "red_points = []\n",
    "blue_points = []\n",
    "for k, test_input_k in enumerate(test_points):\n",
    "    predicted_value = my_lib.predict_linear_classification(\n",
    "                model,\n",
    "                test_input_k.ctypes.data_as(POINTER(c_double)),\n",
    "                len(test_input_k))\n",
    "    if predicted_value == 1.0:\n",
    "        blue_points.append(test_input_k)\n",
    "    else:\n",
    "        red_points.append(test_input_k)\n",
    "\n",
    "red_points = np.array(red_points)\n",
    "blue_points = np.array(blue_points)\n",
    "\n",
    "if len(red_points) > 0:\n",
    "    plt.scatter(red_points[:, 0], red_points[:, 1], color='red', alpha=0.5, s=2)\n",
    "if len(blue_points) > 0:\n",
    "    plt.scatter(blue_points[:, 0], blue_points[:, 1], color='blue', alpha=0.5, s=2)\n",
    "plt.scatter(X[0, 0], X[0, 1], color='blue', s=10)\n",
    "plt.scatter(X[1:3, 0], X[1:3, 1], color='red', s=10)\n",
    "plt.show()\n",
    "plt.clf()"
   ]
  },
  {
   "cell_type": "markdown",
   "metadata": {},
   "source": [
    "##### Exploitation des resultats\n",
    "\n",
    "Grace à l'implémentation de la règle de ressemblante et au bon paramétrage du modèle (1000 tours de boucle est une epoch à 0.01) nous remarquons une bonne séparation entre le point bleu et les deux points rouge."
   ]
  },
  {
   "cell_type": "markdown",
   "metadata": {},
   "source": [
    "### Cas d'un test multi lineaire (Sur-entrainement)\n",
    "Nous testons notre modèle sur un cas de test multi linéaire. \n",
    "\n",
    "Le but est de séparer les points bleus et les points rouges pour pouvoir les classer."
   ]
  },
  {
   "cell_type": "code",
   "execution_count": 9,
   "metadata": {},
   "outputs": [
    {
     "name": "stdout",
     "output_type": "stream",
     "text": [
      "Test model Training\n"
     ]
    },
    {
     "data": {
      "image/png": "[encoded data removed]",
      "text/plain": [
       "<Figure size 432x288 with 1 Axes>"
      ]
     },
     "metadata": {
      "needs_background": "light"
     },
     "output_type": "display_data"
    },
    {
     "data": {
      "text/plain": [
       "<Figure size 432x288 with 0 Axes>"
      ]
     },
     "metadata": {},
     "output_type": "display_data"
    }
   ],
   "source": [
    "X = np.concatenate([\n",
    "    np.random.random((50,2)) * 0.9 + np.array([1, 1]),\n",
    "    np.random.random((50,2)) * 0.9 + np.array([2, 2])],\n",
    "    axis = 0)\n",
    "Y = np.concatenate([np.ones((50, 2)), np.ones((50, 2)) * -1.0])\n",
    "flattened_X = X.flatten()\n",
    "#Création du model\n",
    "model = my_lib.create_linear_model(c_int(X.shape[1]))\n",
    "\n",
    "#Entrainement du model\n",
    "my_lib.train_linear_model_classification_python(\n",
    "    model,\n",
    "    flattened_X.ctypes.data_as(POINTER(c_double)),\n",
    "    Y.ctypes.data_as(POINTER(c_double)),\n",
    "    X.shape[0],\n",
    "    X.shape[1],\n",
    "    10000000,\n",
    "    0.0000001\n",
    ")\n",
    "\n",
    "#Test du model\n",
    "print(\"Test model Training\")\n",
    "test_points = np.array([[i, j] for i in range(50) for j in range(50)], dtype='float64') / 50.0 * 2.0 + 1.0\n",
    "\n",
    "test_points_predicted = np.zeros(len(test_points))\n",
    "red_points = []\n",
    "blue_points = []\n",
    "for k, test_input_k in enumerate(test_points):\n",
    "    predicted_value = my_lib.predict_linear_classification(\n",
    "                model,\n",
    "                test_input_k.ctypes.data_as(POINTER(c_double)),\n",
    "                len(test_input_k))\n",
    "    if predicted_value == 1.0:\n",
    "        blue_points.append(test_input_k)\n",
    "    else:\n",
    "        red_points.append(test_input_k)\n",
    "\n",
    "red_points = np.array(red_points)\n",
    "blue_points = np.array(blue_points)\n",
    "\n",
    "if len(red_points) > 0:\n",
    "    plt.scatter(red_points[:, 0], red_points[:, 1], color='red', alpha=0.5, s=2)\n",
    "if len(blue_points) > 0:\n",
    "    plt.scatter(blue_points[:, 0], blue_points[:, 1], color='blue', alpha=0.5, s=2)\n",
    "\n",
    "plt.scatter(X[0:50, 0], X[0:50, 1], color='blue', s=10)\n",
    "plt.scatter(X[50:100,0], X[50:100,1], color='red', s=10)\n",
    "plt.show()\n",
    "plt.clf()"
   ]
  },
  {
   "cell_type": "markdown",
   "metadata": {},
   "source": [
    "##### Exploitation des resultats\n",
    "\n",
    "Nous pouvons remarquer ici qu'avec un mauvais paramétrage de l'entraînement, 10 millions de tours de boucle et une epoch de  0.0000001, nous avons un sur-entraînement du modèle. Nous constatons alors que nos résultats sont faussés dû au sur-entraînement du modèle."
   ]
  },
  {
   "cell_type": "markdown",
   "metadata": {},
   "source": [
    "### Cas d'un test simple (sous-entrainement)\n",
    "Nous testons notre modèle sur un cas de test simple pour montrer le sou-entrainement du modèle dû à son mauvais paramétrage. \n",
    "\n",
    "Le but est de séparer les points bleus et les points rouges pour pouvoir les classer.\n",
    "\n",
    "Nous avons repris ici le premier cas de test simpl:"
   ]
  },
  {
   "attachments": {
    "image.png": {
     "image/png": "[encoded data removed]"
    }
   },
   "cell_type": "markdown",
   "metadata": {},
   "source": [
    "![image.png](attachment:image.png)\n",
    "\n",
    "##### Exploitation des resultats\n",
    "\n",
    "Nous pouvons remarquer ici qu'avec un mauvais paramétrage de l'entraînement, 1 tour de boucle et une epoch de 0.01, nous avons un sous-entraînement du modèle. \n",
    "Nous constatons alors que nos résultats sont faussés dû au sous-entraînement du modèle."
   ]
  },
  {
   "cell_type": "markdown",
   "metadata": {},
   "source": [
    "### Conclusion classification modèle lineaire\n",
    "\n",
    "Avec les différents tests que nous avons mis au point au-dessus, nous pouvons constater que le paramétrage du modèle joue un rôle crucial sur l'entraînement de celui-ci. \n",
    "\n",
    "En utilisant de grande valeur de paramétrage nous constatons un sur-entraînement du modèle, mais au contraire en utilisant de très petite valeur nous constatons un sous-entraînement du modèle. \n",
    "\n",
    "Le but est alors de trouver le bon paramétrage pour exploité au mieux l'entraînement. "
   ]
  }
 ],
 "metadata": {
  "kernelspec": {
   "display_name": "Python 3",
   "language": "python",
   "name": "python3"
  },
  "language_info": {
   "codemirror_mode": {
    "name": "ipython",
    "version": 3
   },
   "file_extension": ".py",
   "mimetype": "text/x-python",
   "name": "python",
   "nbconvert_exporter": "python",
   "pygments_lexer": "ipython3",
   "version": "3.7.7"
  }
 },
 "nbformat": 4,
 "nbformat_minor": 4
}
