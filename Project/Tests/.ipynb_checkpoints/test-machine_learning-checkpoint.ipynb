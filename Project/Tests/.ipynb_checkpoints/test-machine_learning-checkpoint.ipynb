{
 "cells": [
  {
   "cell_type": "markdown",
   "metadata": {
    "colab_type": "text",
    "id": "12URBFa0yULK"
   },
   "source": [
    "# Rendu Projet Annuel 2019 - 2020"
   ]
  },
  {
   "cell_type": "markdown",
   "metadata": {},
   "source": [
    "## Intervenant : Nicolas VIDAL\n"
   ]
  },
  {
   "cell_type": "markdown",
   "metadata": {},
   "source": [
    "## Auteurs: \n",
    "- Natane BENDAVID\n",
    "- Louis TARDY\n",
    "- Cheikh Abdourahmane WADE\n"
   ]
  },
  {
   "cell_type": "code",
   "execution_count": 1,
   "metadata": {
    "colab": {},
    "colab_type": "code",
    "id": "sXU99qaCyT8S"
   },
   "outputs": [],
   "source": [
    "import matplotlib.pyplot as plt\n",
    "import numpy as np\n",
    "from ctypes import *"
   ]
  },
  {
   "cell_type": "markdown",
   "metadata": {},
   "source": [
    "#### Importation de librairie Rust"
   ]
  },
  {
   "cell_type": "code",
   "execution_count": 2,
   "metadata": {},
   "outputs": [],
   "source": [
    "my_dll_path = \"C:/Users/MOI/dev/PA-MachineLearning-3ESGI/Project/Lib/MachineLearning/target/debug/machine_learning_c.dll\"\n",
    "\n",
    "my_lib = CDLL(my_dll_path)"
   ]
  },
  {
   "cell_type": "markdown",
   "metadata": {},
   "source": [
    "#### Paramétrage de la librairie"
   ]
  },
  {
   "cell_type": "code",
   "execution_count": 3,
   "metadata": {},
   "outputs": [],
   "source": [
    "# Création d'un model\n",
    "my_lib.create_linear_model.restype = c_void_p\n",
    "my_lib.create_linear_model.argtypes = [c_int]\n",
    "# Prédiction d'un model pour la classification\n",
    "my_lib.predict_linear_classification.argtypes = [\n",
    "    c_void_p,\n",
    "    POINTER(c_double),\n",
    "    c_int\n",
    "]\n",
    "my_lib.predict_linear_classification.restype = c_double\n",
    "# Prédiction d'un model pour la régression\n",
    "my_lib.predict_linear_regression.argtypes = [\n",
    "    c_void_p,\n",
    "    POINTER(c_double),\n",
    "    c_int\n",
    "]\n",
    "my_lib.predict_linear_regression.restype = c_double\n",
    "# Entrainement du model pour la classification\n",
    "my_lib.train_linear_model_classification_python.argtypes = [\n",
    "    c_void_p,\n",
    "    POINTER(c_double),\n",
    "    POINTER(c_double),\n",
    "    c_int,\n",
    "    c_int,\n",
    "    c_int,\n",
    "    c_double\n",
    "]\n",
    "my_lib.train_linear_model_classification_python.restype = None\n",
    "# Entrainement du model pour la regression\n",
    "my_lib.train_linear_model_regression_python.argtypes = [\n",
    "    c_void_p,\n",
    "    POINTER(c_double),\n",
    "    POINTER(c_double),\n",
    "    c_int,\n",
    "    c_int\n",
    "]\n",
    "my_lib.train_linear_model_regression_python.restype = None\n",
    "# Creation du modele PMC\n",
    "my_lib.create_mlp.argtypes = [\n",
    "    POINTER(c_int64),\n",
    "    c_int\n",
    "]\n",
    "my_lib.create_mlp.restype = c_void_p\n",
    "# Prediction classification\n",
    "my_lib.mlp_classification.argtypes = [c_void_p, POINTER(c_double), c_int]\n",
    "my_lib.mlp_classification.restype = c_void_p\n",
    "my_lib.mlp_classification_image.argtypes = [c_void_p, POINTER(c_double), c_int]\n",
    "my_lib.mlp_classification_image.restype = c_int\n",
    "my_lib.mlp_classification_max_value.argtypes = [c_void_p, POINTER(c_double), c_int]\n",
    "my_lib.mlp_classification_max_value.restype = c_double\n",
    "# Entrainement du PMC\n",
    "my_lib.mlp_train_classification.argtypes = [c_void_p,\n",
    "                                            c_int,\n",
    "                                            POINTER(c_double),\n",
    "                                            c_int,\n",
    "                                            POINTER(c_double),\n",
    "                                            c_int,\n",
    "                                            c_int,\n",
    "                                            c_double]\n",
    "my_lib.mlp_train_classification.restype = None"
   ]
  },
  {
   "cell_type": "markdown",
   "metadata": {
    "colab_type": "text",
    "id": "MlaksdgDxaA6"
   },
   "source": [
    "# Cas de tests"
   ]
  },
  {
   "cell_type": "markdown",
   "metadata": {
    "colab_type": "text",
    "id": "_qYwTgKqxnkl"
   },
   "source": [
    "## Classification"
   ]
  },
  {
   "cell_type": "markdown",
   "metadata": {
    "colab_type": "text",
    "id": "-d0zULTsyFhh"
   },
   "source": [
    "### Linear Simple :\n",
    "        Linear Model : OK\n",
    "        MLP (2, 1)   : OK"
   ]
  },
  {
   "cell_type": "code",
   "execution_count": 4,
   "metadata": {},
   "outputs": [
    {
     "name": "stdout",
     "output_type": "stream",
     "text": [
      "[[ 1. -1.]\n",
      " [-1.  1.]\n",
      " [-1.  1.]] [ 1. -1. -1.  1. -1.  1.]\n"
     ]
    }
   ],
   "source": [
    "# Data MLP\n",
    "X = np.array([\n",
    "      [1.0, 1.0],\n",
    "      [2.0, 3.0],\n",
    "      [3.0, 3.0]\n",
    "], dtype='float64')\n",
    "Y = np.array([\n",
    "      [1.0, -1.0],\n",
    "      [-1.0, 1.0],\n",
    "      [-1.0, 1.0],\n",
    "], dtype='float64')\n",
    "flattened_X = X.flatten()\n",
    "flattened_Y = Y.flatten()\n",
    "print(Y, flattened_Y)"
   ]
  },
  {
   "cell_type": "markdown",
   "metadata": {},
   "source": [
    "#### MLP :"
   ]
  },
  {
   "cell_type": "code",
   "execution_count": 5,
   "metadata": {},
   "outputs": [
    {
     "name": "stdout",
     "output_type": "stream",
     "text": [
      "0\n",
      "1\n",
      "1\n",
      "Test model Training\n"
     ]
    },
    {
     "data": {
      "image/png": "[encoded data removed]",
      "text/plain": [
       "<Figure size 432x288 with 1 Axes>"
      ]
     },
     "metadata": {
      "needs_background": "light"
     },
     "output_type": "display_data"
    },
    {
     "data": {
      "text/plain": [
       "<Figure size 432x288 with 0 Axes>"
      ]
     },
     "metadata": {},
     "output_type": "display_data"
    }
   ],
   "source": [
    "npl = list([2, 10, 2])\n",
    "npl_pointer = (c_int64 * 3)(*npl)\n",
    "mlp = my_lib.create_mlp(npl_pointer, len(npl))\n",
    "x_train_pointer = (c_double * len(flattened_X))(*flattened_X)\n",
    "y_train_pointer = (c_double * len(flattened_Y))(*flattened_Y)\n",
    "# Entrainement du modele\n",
    "my_lib.mlp_train_classification(mlp, len(X), x_train_pointer, len(flattened_X), y_train_pointer,\n",
    "                                    len(flattened_Y), 10000, 0.01)\n",
    "for i in range(len(X)):\n",
    "    x_pointer = (c_double * len(X[i]))(*X[i])\n",
    "    predict = my_lib.mlp_classification_image(mlp, x_pointer, len(X[i]))\n",
    "    print(predict)\n",
    "\n",
    "#Test du model\n",
    "print(\"Test model Training\")\n",
    "test_points = np.array([[i, j] for i in range(50) for j in range(50)], dtype='float64') / 50.0 * 2.0 + 1.0\n",
    "\n",
    "test_points_predicted = np.zeros(len(test_points))\n",
    "red_points = []\n",
    "blue_points = []\n",
    "for k, test_input_k in enumerate(test_points):\n",
    "    x_pointer = (c_double * len(test_points[k]))(*test_points[k])\n",
    "    predict = my_lib.mlp_classification_image(mlp, x_pointer, len(test_points[k]))\n",
    "    if predict == 0:\n",
    "        blue_points.append(test_input_k)\n",
    "    else:\n",
    "        red_points.append(test_input_k)\n",
    "\n",
    "red_points = np.array(red_points)\n",
    "blue_points = np.array(blue_points)\n",
    "\n",
    "if len(red_points) > 0:\n",
    "    plt.scatter(red_points[:, 0], red_points[:, 1], color='red', alpha=0.5, s=2)\n",
    "if len(blue_points) > 0:\n",
    "    plt.scatter(blue_points[:, 0], blue_points[:, 1], color='blue', alpha=0.5, s=2)\n",
    "plt.scatter(X[0, 0], X[0, 1], color='blue', s=10)\n",
    "plt.scatter(X[1:3, 0], X[1:3, 1], color='red', s=10)\n",
    "plt.show()\n",
    "plt.clf()"
   ]
  },
  {
   "cell_type": "code",
   "execution_count": 6,
   "metadata": {},
   "outputs": [],
   "source": [
    "# Data\n",
    "X = np.array([\n",
    "      [1.0, 1.0],\n",
    "      [2.0, 3.0],\n",
    "      [3.0, 3.0]\n",
    "], dtype='float64')\n",
    "Y = np.array([\n",
    "      1.0,\n",
    "      -1.0,\n",
    "      -1.0\n",
    "], dtype='float64')\n",
    "flattened_X = X.flatten()\n",
    "flattened_Y = Y.flatten()"
   ]
  },
  {
   "cell_type": "markdown",
   "metadata": {},
   "source": [
    "#### Simple linear model :"
   ]
  },
  {
   "cell_type": "code",
   "execution_count": 7,
   "metadata": {},
   "outputs": [
    {
     "name": "stdout",
     "output_type": "stream",
     "text": [
      "After Training\n",
      "1.0\n",
      "-1.0\n",
      "-1.0\n",
      "Test model Training\n"
     ]
    },
    {
     "data": {
      "image/png": "[encoded data removed]",
      "text/plain": [
       "<Figure size 432x288 with 1 Axes>"
      ]
     },
     "metadata": {
      "needs_background": "light"
     },
     "output_type": "display_data"
    },
    {
     "data": {
      "text/plain": [
       "<Figure size 432x288 with 0 Axes>"
      ]
     },
     "metadata": {},
     "output_type": "display_data"
    }
   ],
   "source": [
    "#Création du model\n",
    "model = my_lib.create_linear_model(c_int(X.shape[1]))\n",
    "\n",
    "#Entrainement du model\n",
    "my_lib.train_linear_model_classification_python(\n",
    "    model,\n",
    "    flattened_X.ctypes.data_as(POINTER(c_double)),\n",
    "    Y.ctypes.data_as(POINTER(c_double)),\n",
    "    X.shape[0],\n",
    "    X.shape[1],\n",
    "    1000,\n",
    "    0.01\n",
    ")\n",
    "\n",
    "#Prediction du model\n",
    "print(\"After Training\")\n",
    "for inputs_k in X:\n",
    "    print(my_lib.predict_linear_classification(model, inputs_k.ctypes.data_as(POINTER(c_double)), len(inputs_k)))\n",
    "\n",
    "\n",
    "#Test du model\n",
    "print(\"Test model Training\")\n",
    "test_points = np.array([[i, j] for i in range(50) for j in range(50)], dtype='float64') / 50.0 * 2.0 + 1.0\n",
    "\n",
    "test_points_predicted = np.zeros(len(test_points))\n",
    "red_points = []\n",
    "blue_points = []\n",
    "for k, test_input_k in enumerate(test_points):\n",
    "    predicted_value = my_lib.predict_linear_classification(\n",
    "                model,\n",
    "                test_input_k.ctypes.data_as(POINTER(c_double)),\n",
    "                len(test_input_k))\n",
    "    if predicted_value == 1.0:\n",
    "        blue_points.append(test_input_k)\n",
    "    else:\n",
    "        red_points.append(test_input_k)\n",
    "\n",
    "red_points = np.array(red_points)\n",
    "blue_points = np.array(blue_points)\n",
    "\n",
    "if len(red_points) > 0:\n",
    "    plt.scatter(red_points[:, 0], red_points[:, 1], color='red', alpha=0.5, s=2)\n",
    "if len(blue_points) > 0:\n",
    "    plt.scatter(blue_points[:, 0], blue_points[:, 1], color='blue', alpha=0.5, s=2)\n",
    "plt.scatter(X[0, 0], X[0, 1], color='blue', s=10)\n",
    "plt.scatter(X[1:3, 0], X[1:3, 1], color='red', s=10)\n",
    "plt.show()\n",
    "plt.clf()"
   ]
  },
  {
   "cell_type": "markdown",
   "metadata": {
    "colab_type": "text",
    "id": "7v8KFue-zmCv"
   },
   "source": [
    "### Linear Multiple :\n",
    "        Linear Model : OK\n",
    "        MLP (2, 1)   : OK"
   ]
  },
  {
   "cell_type": "code",
   "execution_count": 8,
   "metadata": {
    "colab": {},
    "colab_type": "code",
    "id": "hZlnpb-qzmCw",
    "scrolled": false
   },
   "outputs": [],
   "source": [
    "X = np.concatenate([\n",
    "    np.random.random((50,2)) * 0.9 + np.array([1, 1]),\n",
    "    np.random.random((50,2)) * 0.9 + np.array([2, 2])],\n",
    "    axis = 0)\n",
    "Y = np.concatenate([np.ones((50, 2)), np.ones((50, 2)) * -1.0])\n",
    "flattened_X = X.flatten()\n",
    "flattened_Y = Y.flatten()\n",
    "# print(Y, flattened_Y)"
   ]
  },
  {
   "cell_type": "markdown",
   "metadata": {},
   "source": [
    "#### MLP :"
   ]
  },
  {
   "cell_type": "code",
   "execution_count": 9,
   "metadata": {},
   "outputs": [
    {
     "name": "stdout",
     "output_type": "stream",
     "text": [
      "Test model Training\n"
     ]
    },
    {
     "data": {
      "image/png": "[encoded data removed]",
      "text/plain": [
       "<Figure size 432x288 with 1 Axes>"
      ]
     },
     "metadata": {
      "needs_background": "light"
     },
     "output_type": "display_data"
    },
    {
     "data": {
      "text/plain": [
       "<Figure size 432x288 with 0 Axes>"
      ]
     },
     "metadata": {},
     "output_type": "display_data"
    }
   ],
   "source": [
    "npl = list([2, 1])\n",
    "npl_pointer = (c_int64 * 2)(*npl)\n",
    "mlp = my_lib.create_mlp(npl_pointer, len(npl))\n",
    "x_train_pointer = (c_double * len(flattened_X))(*flattened_X)\n",
    "y_train_pointer = (c_double * len(flattened_Y))(*flattened_Y)\n",
    "# Entrainement du modele\n",
    "my_lib.mlp_train_classification(mlp, len(X), x_train_pointer, len(flattened_X), y_train_pointer,\n",
    "                                    len(flattened_Y), 10000, 0.01)\n",
    "for i in range(len(X)):\n",
    "    x_pointer = (c_double * len(X[i]))(*X[i])\n",
    "    predict = my_lib.mlp_classification_image(mlp, x_pointer, len(X[i]))\n",
    "#     print(predict)\n",
    "\n",
    "#Test du model\n",
    "print(\"Test model Training\")\n",
    "test_points = np.array([[i, j] for i in range(50) for j in range(50)], dtype='float64') / 50.0 * 2.0 + 1.0\n",
    "\n",
    "test_points_predicted = np.zeros(len(test_points))\n",
    "red_points = []\n",
    "blue_points = []\n",
    "for k, test_input_k in enumerate(test_points):\n",
    "    x_pointer = (c_double * len(test_points[k]))(*test_points[k])\n",
    "    predict = my_lib.mlp_classification_max_value(mlp, x_pointer, len(test_points[k]))\n",
    "    if predict > 0:\n",
    "        blue_points.append(test_input_k)\n",
    "    else:\n",
    "        red_points.append(test_input_k)\n",
    "\n",
    "red_points = np.array(red_points)\n",
    "blue_points = np.array(blue_points)\n",
    "\n",
    "if len(red_points) > 0:\n",
    "    plt.scatter(red_points[:, 0], red_points[:, 1], color='red', alpha=0.5, s=2)\n",
    "if len(blue_points) > 0:\n",
    "    plt.scatter(blue_points[:, 0], blue_points[:, 1], color='blue', alpha=0.5, s=2)\n",
    "plt.scatter(X[0:50, 0], X[0:50, 1], color='blue', s=10)\n",
    "plt.scatter(X[50:100,0], X[50:100,1], color='red', s=10)\n",
    "plt.show()\n",
    "plt.clf()"
   ]
  },
  {
   "cell_type": "markdown",
   "metadata": {},
   "source": [
    "#### Simple linear model :"
   ]
  },
  {
   "cell_type": "code",
   "execution_count": 10,
   "metadata": {},
   "outputs": [
    {
     "name": "stdout",
     "output_type": "stream",
     "text": [
      "After Training\n",
      "1.0\n",
      "1.0\n",
      "1.0\n",
      "1.0\n",
      "1.0\n",
      "1.0\n",
      "1.0\n",
      "1.0\n",
      "1.0\n",
      "1.0\n",
      "1.0\n",
      "1.0\n",
      "1.0\n",
      "1.0\n",
      "1.0\n",
      "1.0\n",
      "1.0\n",
      "1.0\n",
      "1.0\n",
      "1.0\n",
      "1.0\n",
      "1.0\n",
      "1.0\n",
      "1.0\n",
      "1.0\n",
      "1.0\n",
      "1.0\n",
      "1.0\n",
      "1.0\n",
      "1.0\n",
      "1.0\n",
      "1.0\n",
      "1.0\n",
      "1.0\n",
      "1.0\n",
      "1.0\n",
      "1.0\n",
      "1.0\n",
      "1.0\n",
      "1.0\n",
      "1.0\n",
      "1.0\n",
      "1.0\n",
      "1.0\n",
      "1.0\n",
      "1.0\n",
      "1.0\n",
      "1.0\n",
      "1.0\n",
      "1.0\n",
      "1.0\n",
      "1.0\n",
      "1.0\n",
      "1.0\n",
      "1.0\n",
      "1.0\n",
      "1.0\n",
      "1.0\n",
      "1.0\n",
      "1.0\n",
      "1.0\n",
      "1.0\n",
      "1.0\n",
      "1.0\n",
      "1.0\n",
      "1.0\n",
      "1.0\n",
      "1.0\n",
      "1.0\n",
      "1.0\n",
      "1.0\n",
      "1.0\n",
      "1.0\n",
      "1.0\n",
      "1.0\n",
      "1.0\n",
      "1.0\n",
      "1.0\n",
      "1.0\n",
      "1.0\n",
      "1.0\n",
      "1.0\n",
      "1.0\n",
      "1.0\n",
      "1.0\n",
      "1.0\n",
      "1.0\n",
      "1.0\n",
      "1.0\n",
      "1.0\n",
      "1.0\n",
      "1.0\n",
      "1.0\n",
      "1.0\n",
      "1.0\n",
      "1.0\n",
      "1.0\n",
      "1.0\n",
      "1.0\n",
      "1.0\n",
      "Test model Training\n"
     ]
    },
    {
     "data": {
      "image/png": "[encoded data removed]",
      "text/plain": [
       "<Figure size 432x288 with 1 Axes>"
      ]
     },
     "metadata": {
      "needs_background": "light"
     },
     "output_type": "display_data"
    },
    {
     "data": {
      "text/plain": [
       "<Figure size 432x288 with 0 Axes>"
      ]
     },
     "metadata": {},
     "output_type": "display_data"
    }
   ],
   "source": [
    "#Création du model\n",
    "model = my_lib.create_linear_model(c_int(X.shape[1]))\n",
    "\n",
    "#Entrainement du model\n",
    "my_lib.train_linear_model_classification_python(\n",
    "    model,\n",
    "    flattened_X.ctypes.data_as(POINTER(c_double)),\n",
    "    Y.ctypes.data_as(POINTER(c_double)),\n",
    "    X.shape[0],\n",
    "    X.shape[1],\n",
    "    100000,\n",
    "    0.001\n",
    ")\n",
    "\n",
    "#Prediction du model\n",
    "print(\"After Training\")\n",
    "for inputs_k in X:\n",
    "    print(my_lib.predict_linear_classification(model, inputs_k.ctypes.data_as(POINTER(c_double)), len(inputs_k)))\n",
    "\n",
    "\n",
    "#Test du model\n",
    "print(\"Test model Training\")\n",
    "test_points = np.array([[i, j] for i in range(50) for j in range(50)], dtype='float64') / 50.0 * 2.0 + 1.0\n",
    "\n",
    "test_points_predicted = np.zeros(len(test_points))\n",
    "red_points = []\n",
    "blue_points = []\n",
    "for k, test_input_k in enumerate(test_points):\n",
    "    predicted_value = my_lib.predict_linear_classification(\n",
    "                model,\n",
    "                test_input_k.ctypes.data_as(POINTER(c_double)),\n",
    "                len(test_input_k))\n",
    "    if predicted_value == 1.0:\n",
    "        blue_points.append(test_input_k)\n",
    "    else:\n",
    "        red_points.append(test_input_k)\n",
    "\n",
    "red_points = np.array(red_points)\n",
    "blue_points = np.array(blue_points)\n",
    "\n",
    "if len(red_points) > 0:\n",
    "    plt.scatter(red_points[:, 0], red_points[:, 1], color='red', alpha=0.5, s=2)\n",
    "if len(blue_points) > 0:\n",
    "    plt.scatter(blue_points[:, 0], blue_points[:, 1], color='blue', alpha=0.5, s=2)\n",
    "\n",
    "plt.scatter(X[0:50, 0], X[0:50, 1], color='blue', s=10)\n",
    "plt.scatter(X[50:100,0], X[50:100,1], color='red', s=10)\n",
    "plt.show()\n",
    "plt.clf()"
   ]
  },
  {
   "cell_type": "markdown",
   "metadata": {
    "colab_type": "text",
    "id": "gZlONmsp1T_W"
   },
   "source": [
    "### XOR :\n",
    "        Linear Model    : KO\n",
    "        MLP (2, 2, 1)   : OK"
   ]
  },
  {
   "cell_type": "code",
   "execution_count": 11,
   "metadata": {
    "colab": {},
    "colab_type": "code",
    "id": "673wfC9U1T_W"
   },
   "outputs": [],
   "source": [
    "X = np.array([[1, 0], [0, 1], [0, 0], [1, 1]], dtype='float64')\n",
    "Y = np.array([1, 1, -1, -1,], dtype='float64')\n",
    "\n",
    "flattened_X = X.flatten()\n",
    "flattened_Y = Y.flatten()"
   ]
  },
  {
   "cell_type": "markdown",
   "metadata": {},
   "source": [
    "#### MLP"
   ]
  },
  {
   "cell_type": "code",
   "execution_count": 12,
   "metadata": {},
   "outputs": [
    {
     "name": "stdout",
     "output_type": "stream",
     "text": [
      "0 0.9202058483945638\n",
      "0 0.8942230412307228\n",
      "0 -0.9337114234315914\n",
      "0 -0.8913268593314859\n",
      "Test model Training\n",
      "TEST POINt [[0.   0.  ]\n",
      " [0.   0.04]\n",
      " [0.   0.08]\n",
      " ...\n",
      " [1.96 1.88]\n",
      " [1.96 1.92]\n",
      " [1.96 1.96]]\n"
     ]
    },
    {
     "data": {
      "image/png": "[encoded data removed]",
      "text/plain": [
       "<Figure size 432x288 with 1 Axes>"
      ]
     },
     "metadata": {
      "needs_background": "light"
     },
     "output_type": "display_data"
    },
    {
     "data": {
      "text/plain": [
       "<Figure size 432x288 with 0 Axes>"
      ]
     },
     "metadata": {},
     "output_type": "display_data"
    }
   ],
   "source": [
    "npl = list([2, 3, 1])\n",
    "npl_pointer = (c_int64 * 3)(*npl)\n",
    "mlp = my_lib.create_mlp(npl_pointer, len(npl))\n",
    "x_train_pointer = (c_double * len(flattened_X))(*flattened_X)\n",
    "y_train_pointer = (c_double * len(flattened_Y))(*flattened_Y)\n",
    "# Entrainement du modele\n",
    "my_lib.mlp_train_classification(mlp, len(X), x_train_pointer, len(flattened_X), y_train_pointer,\n",
    "                                    len(flattened_Y), 10000, 0.01)\n",
    "for i in range(len(X)):\n",
    "    x_pointer = (c_double * len(X[i]))(*X[i])\n",
    "    my_lib.mlp_classification(mlp, x_pointer, len(X[i]))\n",
    "    predict = my_lib.mlp_classification_image(mlp, x_pointer, len(X[i]))\n",
    "    max_value = my_lib.mlp_classification_max_value(mlp, x_pointer, len(X[i]))\n",
    "    print(predict, max_value)\n",
    "    \n",
    "#Test du model\n",
    "print(\"Test model Training\")\n",
    "test_points = np.array([[i, j] for i in range(50) for j in range(50)], dtype='float64') / 50.0 * 2.0\n",
    "print(\"TEST POINt\", test_points)\n",
    "test_points_predicted = np.zeros(len(test_points))\n",
    "red_points = []\n",
    "blue_points = []\n",
    "for k, test_input_k in enumerate(test_points):\n",
    "    x_pointer = (c_double * len(test_points[k]))(*test_points[k])\n",
    "    predict = my_lib.mlp_classification_max_value(mlp, x_pointer, len(test_points[k]))\n",
    "    if predict > 0:\n",
    "        blue_points.append(test_input_k)\n",
    "    else:\n",
    "        red_points.append(test_input_k)\n",
    "\n",
    "red_points = np.array(red_points)\n",
    "blue_points = np.array(blue_points)\n",
    "\n",
    "if len(red_points) > 0:\n",
    "    plt.scatter(red_points[:, 0], red_points[:, 1], color='red', alpha=0.5, s=2)\n",
    "if len(blue_points) > 0:\n",
    "    plt.scatter(blue_points[:, 0], blue_points[:, 1], color='blue', alpha=0.5, s=2)\n",
    "plt.scatter(X[0:2, 0], X[0:2, 1], color='blue')\n",
    "plt.scatter(X[2:4,0], X[2:4,1], color='red')\n",
    "plt.show()\n",
    "plt.clf()"
   ]
  },
  {
   "cell_type": "markdown",
   "metadata": {},
   "source": [
    "#### Simple linear model :"
   ]
  },
  {
   "cell_type": "code",
   "execution_count": 13,
   "metadata": {
    "colab": {
     "base_uri": "https://localhost:8080/",
     "height": 287
    },
    "colab_type": "code",
    "id": "uA3E-h801T_Y",
    "outputId": "70a25086-29b7-46ce-fa08-bd8bc69baf4b"
   },
   "outputs": [
    {
     "name": "stdout",
     "output_type": "stream",
     "text": [
      "After Training\n",
      "-1.0\n",
      "1.0\n",
      "1.0\n",
      "-1.0\n",
      "Test model Training\n"
     ]
    },
    {
     "data": {
      "image/png": "[encoded data removed]",
      "text/plain": [
       "<Figure size 432x288 with 1 Axes>"
      ]
     },
     "metadata": {
      "needs_background": "light"
     },
     "output_type": "display_data"
    },
    {
     "data": {
      "text/plain": [
       "<Figure size 432x288 with 0 Axes>"
      ]
     },
     "metadata": {},
     "output_type": "display_data"
    }
   ],
   "source": [
    "#Création du model\n",
    "model = my_lib.create_linear_model(c_int(X.shape[1]))\n",
    "\n",
    "#Entrainement du model\n",
    "my_lib.train_linear_model_classification_python(\n",
    "    model,\n",
    "    flattened_X.ctypes.data_as(POINTER(c_double)),\n",
    "    Y.ctypes.data_as(POINTER(c_double)),\n",
    "    X.shape[0],\n",
    "    X.shape[1],\n",
    "    100000,\n",
    "    0.000001\n",
    ")\n",
    "\n",
    "#Prediction du model\n",
    "print(\"After Training\")\n",
    "for inputs_k in X:\n",
    "    print(my_lib.predict_linear_classification(model, inputs_k.ctypes.data_as(POINTER(c_double)), len(inputs_k)))\n",
    "\n",
    "\n",
    "#Test du model\n",
    "print(\"Test model Training\")\n",
    "test_points = np.array([[i, j] for i in range(50) for j in range(50)], dtype='float64') / 50.0 * 2.0\n",
    "\n",
    "test_points_predicted = np.zeros(len(test_points))\n",
    "red_points = []\n",
    "blue_points = []\n",
    "for k, test_input_k in enumerate(test_points):\n",
    "    predicted_value = my_lib.predict_linear_classification(\n",
    "                model,\n",
    "                test_input_k.ctypes.data_as(POINTER(c_double)),\n",
    "                len(test_input_k))\n",
    "    if predicted_value == 1.0:\n",
    "        blue_points.append(test_input_k)\n",
    "    else:\n",
    "        red_points.append(test_input_k)\n",
    "\n",
    "red_points = np.array(red_points)\n",
    "blue_points = np.array(blue_points)\n",
    "\n",
    "if len(red_points) > 0:\n",
    "    plt.scatter(red_points[:, 0], red_points[:, 1], color='red', alpha=0.5, s=2)\n",
    "if len(blue_points) > 0:\n",
    "    plt.scatter(blue_points[:, 0], blue_points[:, 1], color='blue', alpha=0.5, s=2)\n",
    "\n",
    "plt.scatter(X[0:2, 0], X[0:2, 1], color='blue', s=10)\n",
    "plt.scatter(X[2:4,0], X[2:4,1], color='red', s=10)\n",
    "plt.show()\n",
    "plt.clf()"
   ]
  },
  {
   "cell_type": "markdown",
   "metadata": {
    "colab_type": "text",
    "id": "5qxkXVo02MpM"
   },
   "source": [
    "### Cross :\n",
    "        Linear Model    : KO\n",
    "        MLP (2, 4, 1)   : OK"
   ]
  },
  {
   "cell_type": "code",
   "execution_count": 14,
   "metadata": {
    "colab": {},
    "colab_type": "code",
    "id": "7kkrrfnX2MpM"
   },
   "outputs": [],
   "source": [
    "X = np.random.random((500, 2)) * 2.0 - 1.0\n",
    "Y = np.array([1 if abs(p[0]) <= 0.3 or abs(p[1]) <= 0.3 else -1 for p in X])\n",
    "\n",
    "flattened_X = X.flatten()\n",
    "flattened_Y = Y.flatten()"
   ]
  },
  {
   "cell_type": "markdown",
   "metadata": {},
   "source": [
    "#### MLP"
   ]
  },
  {
   "cell_type": "code",
   "execution_count": 15,
   "metadata": {},
   "outputs": [
    {
     "name": "stdout",
     "output_type": "stream",
     "text": [
      "Test model Training\n",
      "TEST POINt [[-1.   -1.  ]\n",
      " [-1.   -0.96]\n",
      " [-1.   -0.92]\n",
      " ...\n",
      " [ 0.96  0.88]\n",
      " [ 0.96  0.92]\n",
      " [ 0.96  0.96]]\n"
     ]
    },
    {
     "data": {
      "image/png": "[encoded data removed]",
      "text/plain": [
       "<Figure size 432x288 with 1 Axes>"
      ]
     },
     "metadata": {
      "needs_background": "light"
     },
     "output_type": "display_data"
    },
    {
     "data": {
      "text/plain": [
       "<Figure size 432x288 with 0 Axes>"
      ]
     },
     "metadata": {},
     "output_type": "display_data"
    }
   ],
   "source": [
    "npl = list([2, 10, 1])\n",
    "npl_pointer = (c_int64 * 3)(*npl)\n",
    "mlp = my_lib.create_mlp(npl_pointer, len(npl))\n",
    "x_train_pointer = (c_double * len(flattened_X))(*flattened_X)\n",
    "y_train_pointer = (c_double * len(flattened_Y))(*flattened_Y)\n",
    "# Entrainement du modele\n",
    "my_lib.mlp_train_classification(mlp, len(X), x_train_pointer, len(flattened_X), y_train_pointer,\n",
    "                                    len(flattened_Y), 10000, 0.01)\n",
    "for i in range(len(X)):\n",
    "    x_pointer = (c_double * len(X[i]))(*X[i])\n",
    "    my_lib.mlp_classification(mlp, x_pointer, len(X[i]))\n",
    "    predict = my_lib.mlp_classification_image(mlp, x_pointer, len(X[i]))\n",
    "    max_value = my_lib.mlp_classification_max_value(mlp, x_pointer, len(X[i]))\n",
    "#     print(predict, max_value)\n",
    "    \n",
    "#Test du model\n",
    "print(\"Test model Training\")\n",
    "test_points = np.array([[i, j] for i in range(50) for j in range(50)], dtype='float64') / 50.0 * 2.0 -1\n",
    "print(\"TEST POINt\", test_points)\n",
    "test_points_predicted = np.zeros(len(test_points))\n",
    "red_points = []\n",
    "blue_points = []\n",
    "for k, test_input_k in enumerate(test_points):\n",
    "    x_pointer = (c_double * len(test_points[k]))(*test_points[k])\n",
    "    predict = my_lib.mlp_classification_max_value(mlp, x_pointer, len(test_points[k]))\n",
    "    if predict > 0:\n",
    "        blue_points.append(test_input_k)\n",
    "    else:\n",
    "        red_points.append(test_input_k)\n",
    "\n",
    "red_points = np.array(red_points)\n",
    "blue_points = np.array(blue_points)\n",
    "\n",
    "if len(red_points) > 0:\n",
    "    plt.scatter(red_points[:, 0], red_points[:, 1], color='red', alpha=0.5, s=2)\n",
    "if len(blue_points) > 0:\n",
    "    plt.scatter(blue_points[:, 0], blue_points[:, 1], color='blue', alpha=0.5, s=2)\n",
    "plt.scatter(np.array(list(map(lambda elt : elt[1], filter(lambda c: Y[c[0]] == 1, enumerate(X)))))[:,0], np.array(list(map(lambda elt : elt[1], filter(lambda c: Y[c[0]] == 1, enumerate(X)))))[:,1], color='blue')\n",
    "plt.scatter(np.array(list(map(lambda elt : elt[1], filter(lambda c: Y[c[0]] == -1, enumerate(X)))))[:,0], np.array(list(map(lambda elt : elt[1], filter(lambda c: Y[c[0]] == -1, enumerate(X)))))[:,1], color='red')\n",
    "plt.show()\n",
    "plt.clf()"
   ]
  },
  {
   "cell_type": "markdown",
   "metadata": {},
   "source": [
    "#### Simple linear model :"
   ]
  },
  {
   "cell_type": "code",
   "execution_count": 16,
   "metadata": {},
   "outputs": [
    {
     "name": "stdout",
     "output_type": "stream",
     "text": [
      "After Training\n",
      "-1.0\n",
      "-1.0\n",
      "-1.0\n",
      "-1.0\n",
      "-1.0\n",
      "-1.0\n",
      "-1.0\n",
      "-1.0\n",
      "-1.0\n",
      "-1.0\n",
      "-1.0\n",
      "-1.0\n",
      "-1.0\n",
      "-1.0\n",
      "-1.0\n",
      "-1.0\n",
      "-1.0\n",
      "-1.0\n",
      "-1.0\n",
      "-1.0\n",
      "-1.0\n",
      "-1.0\n",
      "-1.0\n",
      "-1.0\n",
      "-1.0\n",
      "-1.0\n",
      "-1.0\n",
      "-1.0\n",
      "-1.0\n",
      "-1.0\n",
      "-1.0\n",
      "-1.0\n",
      "-1.0\n",
      "-1.0\n",
      "-1.0\n",
      "-1.0\n",
      "-1.0\n",
      "-1.0\n",
      "-1.0\n",
      "-1.0\n",
      "-1.0\n",
      "-1.0\n",
      "-1.0\n",
      "-1.0\n",
      "-1.0\n",
      "-1.0\n",
      "-1.0\n",
      "-1.0\n",
      "-1.0\n",
      "-1.0\n",
      "-1.0\n",
      "-1.0\n",
      "-1.0\n",
      "-1.0\n",
      "-1.0\n",
      "-1.0\n",
      "-1.0\n",
      "-1.0\n",
      "-1.0\n",
      "-1.0\n",
      "-1.0\n",
      "-1.0\n",
      "-1.0\n",
      "-1.0\n",
      "-1.0\n",
      "-1.0\n",
      "-1.0\n",
      "-1.0\n",
      "-1.0\n",
      "-1.0\n",
      "-1.0\n",
      "-1.0\n",
      "-1.0\n",
      "-1.0\n",
      "-1.0\n",
      "-1.0\n",
      "-1.0\n",
      "-1.0\n",
      "-1.0\n",
      "-1.0\n",
      "-1.0\n",
      "-1.0\n",
      "-1.0\n",
      "-1.0\n",
      "-1.0\n",
      "-1.0\n",
      "-1.0\n",
      "-1.0\n",
      "-1.0\n",
      "-1.0\n",
      "-1.0\n",
      "-1.0\n",
      "-1.0\n",
      "-1.0\n",
      "-1.0\n",
      "-1.0\n",
      "-1.0\n",
      "-1.0\n",
      "-1.0\n",
      "-1.0\n",
      "-1.0\n",
      "-1.0\n",
      "-1.0\n",
      "-1.0\n",
      "-1.0\n",
      "-1.0\n",
      "-1.0\n",
      "-1.0\n",
      "-1.0\n",
      "-1.0\n",
      "-1.0\n",
      "-1.0\n",
      "-1.0\n",
      "-1.0\n",
      "-1.0\n",
      "-1.0\n",
      "-1.0\n",
      "-1.0\n",
      "-1.0\n",
      "-1.0\n",
      "-1.0\n",
      "-1.0\n",
      "-1.0\n",
      "-1.0\n",
      "-1.0\n",
      "-1.0\n",
      "-1.0\n",
      "-1.0\n",
      "-1.0\n",
      "-1.0\n",
      "-1.0\n",
      "-1.0\n",
      "-1.0\n",
      "-1.0\n",
      "-1.0\n",
      "-1.0\n",
      "-1.0\n",
      "-1.0\n",
      "-1.0\n",
      "-1.0\n",
      "-1.0\n",
      "-1.0\n",
      "-1.0\n",
      "-1.0\n",
      "-1.0\n",
      "-1.0\n",
      "-1.0\n",
      "-1.0\n",
      "-1.0\n",
      "-1.0\n",
      "-1.0\n",
      "-1.0\n",
      "-1.0\n",
      "-1.0\n",
      "-1.0\n",
      "-1.0\n",
      "-1.0\n",
      "-1.0\n",
      "-1.0\n",
      "-1.0\n",
      "-1.0\n",
      "-1.0\n",
      "-1.0\n",
      "-1.0\n",
      "-1.0\n",
      "-1.0\n",
      "-1.0\n",
      "-1.0\n",
      "-1.0\n",
      "-1.0\n",
      "-1.0\n",
      "-1.0\n",
      "-1.0\n",
      "-1.0\n",
      "-1.0\n",
      "-1.0\n",
      "-1.0\n",
      "-1.0\n",
      "-1.0\n",
      "-1.0\n",
      "-1.0\n",
      "-1.0\n",
      "-1.0\n",
      "-1.0\n",
      "-1.0\n",
      "-1.0\n",
      "-1.0\n",
      "-1.0\n",
      "-1.0\n",
      "-1.0\n",
      "-1.0\n",
      "-1.0\n",
      "-1.0\n",
      "-1.0\n",
      "-1.0\n",
      "-1.0\n",
      "-1.0\n",
      "-1.0\n",
      "-1.0\n",
      "-1.0\n",
      "-1.0\n",
      "-1.0\n",
      "-1.0\n",
      "-1.0\n",
      "-1.0\n",
      "-1.0\n",
      "-1.0\n",
      "-1.0\n",
      "-1.0\n",
      "-1.0\n",
      "-1.0\n",
      "-1.0\n",
      "-1.0\n",
      "-1.0\n",
      "-1.0\n",
      "-1.0\n",
      "-1.0\n",
      "-1.0\n",
      "-1.0\n",
      "-1.0\n",
      "-1.0\n",
      "-1.0\n",
      "-1.0\n",
      "-1.0\n",
      "-1.0\n",
      "-1.0\n",
      "-1.0\n",
      "-1.0\n",
      "-1.0\n",
      "-1.0\n",
      "-1.0\n",
      "-1.0\n",
      "-1.0\n",
      "-1.0\n",
      "-1.0\n",
      "-1.0\n",
      "-1.0\n",
      "-1.0\n",
      "-1.0\n",
      "-1.0\n",
      "-1.0\n",
      "-1.0\n",
      "-1.0\n",
      "-1.0\n",
      "-1.0\n",
      "-1.0\n",
      "-1.0\n",
      "-1.0\n",
      "-1.0\n",
      "-1.0\n",
      "-1.0\n",
      "-1.0\n",
      "-1.0\n",
      "-1.0\n",
      "-1.0\n",
      "-1.0\n",
      "-1.0\n",
      "-1.0\n",
      "-1.0\n",
      "-1.0\n",
      "-1.0\n",
      "-1.0\n",
      "-1.0\n",
      "-1.0\n",
      "-1.0\n",
      "-1.0\n",
      "-1.0\n",
      "-1.0\n",
      "-1.0\n",
      "-1.0\n",
      "-1.0\n",
      "-1.0\n",
      "-1.0\n",
      "-1.0\n",
      "-1.0\n",
      "-1.0\n",
      "-1.0\n",
      "-1.0\n",
      "-1.0\n",
      "-1.0\n",
      "-1.0\n",
      "-1.0\n",
      "-1.0\n",
      "-1.0\n",
      "-1.0\n",
      "-1.0\n",
      "-1.0\n",
      "-1.0\n",
      "-1.0\n",
      "-1.0\n",
      "-1.0\n",
      "-1.0\n",
      "-1.0\n",
      "-1.0\n",
      "-1.0\n",
      "-1.0\n",
      "-1.0\n",
      "-1.0\n",
      "-1.0\n",
      "-1.0\n",
      "-1.0\n",
      "-1.0\n",
      "-1.0\n",
      "-1.0\n",
      "-1.0\n",
      "-1.0\n",
      "-1.0\n",
      "-1.0\n",
      "-1.0\n",
      "-1.0\n",
      "-1.0\n",
      "-1.0\n",
      "-1.0\n",
      "-1.0\n",
      "-1.0\n",
      "-1.0\n",
      "-1.0\n",
      "-1.0\n",
      "-1.0\n",
      "-1.0\n",
      "-1.0\n",
      "-1.0\n",
      "-1.0\n",
      "-1.0\n",
      "-1.0\n",
      "-1.0\n",
      "-1.0\n",
      "-1.0\n",
      "-1.0\n",
      "-1.0\n",
      "-1.0\n",
      "-1.0\n",
      "-1.0\n",
      "-1.0\n",
      "-1.0\n",
      "-1.0\n",
      "-1.0\n",
      "-1.0\n",
      "-1.0\n",
      "-1.0\n",
      "-1.0\n",
      "-1.0\n",
      "-1.0\n",
      "-1.0\n",
      "-1.0\n",
      "-1.0\n",
      "-1.0\n",
      "-1.0\n",
      "-1.0\n",
      "-1.0\n",
      "-1.0\n",
      "-1.0\n",
      "-1.0\n",
      "-1.0\n",
      "-1.0\n",
      "-1.0\n",
      "-1.0\n",
      "-1.0\n",
      "-1.0\n",
      "-1.0\n",
      "-1.0\n",
      "-1.0\n",
      "-1.0\n",
      "-1.0\n",
      "-1.0\n",
      "-1.0\n",
      "-1.0\n",
      "-1.0\n",
      "-1.0\n",
      "-1.0\n",
      "-1.0\n",
      "-1.0\n",
      "-1.0\n",
      "-1.0\n",
      "-1.0\n",
      "-1.0\n",
      "-1.0\n",
      "-1.0\n",
      "-1.0\n",
      "-1.0\n",
      "-1.0\n",
      "-1.0\n",
      "-1.0\n",
      "-1.0\n",
      "-1.0\n",
      "-1.0\n",
      "-1.0\n",
      "-1.0\n",
      "-1.0\n",
      "-1.0\n",
      "-1.0\n",
      "-1.0\n",
      "-1.0\n",
      "-1.0\n",
      "-1.0\n",
      "-1.0\n",
      "-1.0\n",
      "-1.0\n",
      "-1.0\n",
      "-1.0\n",
      "-1.0\n",
      "-1.0\n",
      "-1.0\n",
      "-1.0\n",
      "-1.0\n",
      "-1.0\n",
      "-1.0\n",
      "-1.0\n",
      "-1.0\n",
      "-1.0\n",
      "-1.0\n",
      "-1.0\n",
      "-1.0\n",
      "-1.0\n",
      "-1.0\n",
      "-1.0\n",
      "-1.0\n",
      "-1.0\n",
      "-1.0\n",
      "-1.0\n",
      "-1.0\n",
      "-1.0\n",
      "-1.0\n",
      "-1.0\n",
      "-1.0\n",
      "-1.0\n",
      "-1.0\n",
      "-1.0\n",
      "-1.0\n",
      "-1.0\n",
      "-1.0\n",
      "-1.0\n",
      "-1.0\n",
      "-1.0\n",
      "-1.0\n",
      "-1.0\n",
      "-1.0\n",
      "-1.0\n",
      "-1.0\n",
      "-1.0\n",
      "-1.0\n",
      "-1.0\n",
      "-1.0\n",
      "-1.0\n",
      "-1.0\n",
      "-1.0\n",
      "-1.0\n",
      "-1.0\n",
      "-1.0\n",
      "-1.0\n",
      "-1.0\n",
      "-1.0\n",
      "-1.0\n",
      "-1.0\n",
      "-1.0\n",
      "-1.0\n",
      "-1.0\n",
      "-1.0\n",
      "-1.0\n",
      "-1.0\n",
      "-1.0\n",
      "-1.0\n",
      "-1.0\n",
      "-1.0\n",
      "-1.0\n",
      "-1.0\n",
      "-1.0\n",
      "-1.0\n",
      "-1.0\n",
      "-1.0\n",
      "-1.0\n",
      "-1.0\n",
      "-1.0\n",
      "-1.0\n",
      "-1.0\n",
      "-1.0\n",
      "-1.0\n",
      "-1.0\n",
      "-1.0\n",
      "-1.0\n",
      "-1.0\n",
      "-1.0\n",
      "-1.0\n",
      "-1.0\n",
      "-1.0\n",
      "-1.0\n",
      "-1.0\n",
      "-1.0\n",
      "-1.0\n",
      "-1.0\n",
      "-1.0\n",
      "-1.0\n",
      "-1.0\n",
      "-1.0\n",
      "-1.0\n",
      "-1.0\n",
      "-1.0\n",
      "-1.0\n",
      "-1.0\n",
      "-1.0\n",
      "Test model Training\n"
     ]
    },
    {
     "data": {
      "image/png": "[encoded data removed]",
      "text/plain": [
       "<Figure size 432x288 with 1 Axes>"
      ]
     },
     "metadata": {
      "needs_background": "light"
     },
     "output_type": "display_data"
    },
    {
     "data": {
      "text/plain": [
       "<Figure size 432x288 with 0 Axes>"
      ]
     },
     "metadata": {},
     "output_type": "display_data"
    }
   ],
   "source": [
    "#Création du model\n",
    "model = my_lib.create_linear_model(c_int(X.shape[1]))\n",
    "\n",
    "#Entrainement du model\n",
    "my_lib.train_linear_model_classification_python(\n",
    "    model,\n",
    "    flattened_X.ctypes.data_as(POINTER(c_double)),\n",
    "    Y.ctypes.data_as(POINTER(c_double)),\n",
    "    X.shape[0],\n",
    "    X.shape[1],\n",
    "    100000,\n",
    "    0.001\n",
    ")\n",
    "\n",
    "#Prediction du model\n",
    "print(\"After Training\")\n",
    "for inputs_k in X:\n",
    "    print(my_lib.predict_linear_classification(model, inputs_k.ctypes.data_as(POINTER(c_double)), len(inputs_k)))\n",
    "\n",
    "\n",
    "#Test du model\n",
    "print(\"Test model Training\")\n",
    "test_points = np.array([[i, j] for i in range(50) for j in range(50)], dtype='float64') / 50.0 * 2.0 - 1.0\n",
    "\n",
    "test_points_predicted = np.zeros(len(test_points))\n",
    "red_points = []\n",
    "blue_points = []\n",
    "for k, test_input_k in enumerate(test_points):\n",
    "    predicted_value = my_lib.predict_linear_classification(\n",
    "                model,\n",
    "                test_input_k.ctypes.data_as(POINTER(c_double)),\n",
    "                len(test_input_k))\n",
    "    if predicted_value == 1.0:\n",
    "        blue_points.append(test_input_k)\n",
    "    else:\n",
    "        red_points.append(test_input_k)\n",
    "\n",
    "red_points = np.array(red_points)\n",
    "blue_points = np.array(blue_points)\n",
    "\n",
    "if len(red_points) > 0:\n",
    "    plt.scatter(red_points[:, 0], red_points[:, 1], color='red', alpha=0.5, s=2)\n",
    "if len(blue_points) > 0:\n",
    "    plt.scatter(blue_points[:, 0], blue_points[:, 1], color='blue', alpha=0.5, s=2)\n",
    "\n",
    "plt.scatter(np.array(list(map(lambda elt : elt[1], filter(lambda c: Y[c[0]] == 1, enumerate(X)))))[:,0], np.array(list(map(lambda elt : elt[1], filter(lambda c: Y[c[0]] == 1, enumerate(X)))))[:,1], color='blue', s=10)\n",
    "plt.scatter(np.array(list(map(lambda elt : elt[1], filter(lambda c: Y[c[0]] == -1, enumerate(X)))))[:,0], np.array(list(map(lambda elt : elt[1], filter(lambda c: Y[c[0]] == -1, enumerate(X)))))[:,1], color='red', s=10)\n",
    "plt.show()\n",
    "plt.clf()"
   ]
  },
  {
   "cell_type": "markdown",
   "metadata": {
    "colab_type": "text",
    "id": "v4hhnYge928d"
   },
   "source": [
    "### Multi Linear 3 classes :\n",
    "        Linear Model x3 : OK\n",
    "        MLP (2, 3)      : OK"
   ]
  },
  {
   "cell_type": "code",
   "execution_count": 17,
   "metadata": {
    "colab": {},
    "colab_type": "code",
    "id": "IvhvqkDw928q"
   },
   "outputs": [],
   "source": [
    "X = np.random.random((500, 2)) * 2.0 - 1.0\n",
    "Y = np.array([[1, 0, 0] if -p[0] - p[1] - 0.5 > 0 and p[1] < 0 and p[0] - p[1] - 0.5 < 0 else \n",
    "              [0, 1, 0] if -p[0] - p[1] - 0.5 < 0 and p[1] > 0 and p[0] - p[1] - 0.5 < 0 else \n",
    "              [0, 0, 1] if -p[0] - p[1] - 0.5 < 0 and p[1] < 0 and p[0] - p[1] - 0.5 > 0 else \n",
    "              [0, 0, 0]for p in X])\n",
    "flattened_X = X.flatten()\n",
    "flattened_Y = Y.flatten()"
   ]
  },
  {
   "cell_type": "markdown",
   "metadata": {},
   "source": [
    "### MLP"
   ]
  },
  {
   "cell_type": "code",
   "execution_count": 18,
   "metadata": {},
   "outputs": [
    {
     "name": "stdout",
     "output_type": "stream",
     "text": [
      "Test model Training\n",
      "TEST POINt [[-1.   -1.  ]\n",
      " [-1.   -0.96]\n",
      " [-1.   -0.92]\n",
      " ...\n",
      " [ 0.96  0.88]\n",
      " [ 0.96  0.92]\n",
      " [ 0.96  0.96]]\n"
     ]
    },
    {
     "data": {
      "image/png": "[encoded data removed]",
      "text/plain": [
       "<Figure size 432x288 with 1 Axes>"
      ]
     },
     "metadata": {
      "needs_background": "light"
     },
     "output_type": "display_data"
    },
    {
     "data": {
      "text/plain": [
       "<Figure size 432x288 with 0 Axes>"
      ]
     },
     "metadata": {},
     "output_type": "display_data"
    }
   ],
   "source": [
    "npl = list([2, 5, 3])\n",
    "npl_pointer = (c_int64 * 3)(*npl)\n",
    "mlp = my_lib.create_mlp(npl_pointer, len(npl))\n",
    "x_train_pointer = (c_double * len(flattened_X))(*flattened_X)\n",
    "y_train_pointer = (c_double * len(flattened_Y))(*flattened_Y)\n",
    "# Entrainement du modele\n",
    "my_lib.mlp_train_classification(mlp, len(X), x_train_pointer, len(flattened_X), y_train_pointer,\n",
    "                                    len(flattened_Y), 10000, 0.01)\n",
    "for i in range(len(X)):\n",
    "    x_pointer = (c_double * len(X[i]))(*X[i])\n",
    "    my_lib.mlp_classification(mlp, x_pointer, len(X[i]))\n",
    "    predict = my_lib.mlp_classification_image(mlp, x_pointer, len(X[i]))\n",
    "    max_value = my_lib.mlp_classification_max_value(mlp, x_pointer, len(X[i]))\n",
    "#     print(predict, max_value)\n",
    "    \n",
    "#Test du model\n",
    "print(\"Test model Training\")\n",
    "test_points = np.array([[i, j] for i in range(50) for j in range(50)], dtype='float64') / 50.0 * 2.0 -1\n",
    "print(\"TEST POINt\", test_points)\n",
    "test_points_predicted = np.zeros(len(test_points))\n",
    "red_points = []\n",
    "blue_points = []\n",
    "green_points = []\n",
    "for k, test_input_k in enumerate(test_points):\n",
    "    x_pointer = (c_double * len(test_points[k]))(*test_points[k])\n",
    "    predict = my_lib.mlp_classification_image(mlp, x_pointer, len(test_points[k]))\n",
    "    if predict == 0:\n",
    "        blue_points.append(test_input_k)\n",
    "    elif predict == 1:\n",
    "        red_points.append(test_input_k)\n",
    "    else:\n",
    "        green_points.append(test_input_k)\n",
    "\n",
    "red_points = np.array(red_points)\n",
    "blue_points = np.array(blue_points)\n",
    "green_points = np.array(green_points)\n",
    "\n",
    "if len(red_points) > 0:\n",
    "    plt.scatter(red_points[:, 0], red_points[:, 1], color='red', alpha=0.5, s=2)\n",
    "if len(blue_points) > 0:\n",
    "    plt.scatter(blue_points[:, 0], blue_points[:, 1], color='blue', alpha=0.5, s=2)\n",
    "if len(green_points) > 0:\n",
    "    plt.scatter(green_points[:, 0], green_points[:, 1], color='green', alpha=0.5, s=2)\n",
    "plt.scatter(np.array(list(map(lambda elt : elt[1], filter(lambda c: Y[c[0]][0] == 1, enumerate(X)))))[:,0], np.array(list(map(lambda elt : elt[1], filter(lambda c: Y[c[0]][0] == 1, enumerate(X)))))[:,1], color='blue')\n",
    "plt.scatter(np.array(list(map(lambda elt : elt[1], filter(lambda c: Y[c[0]][1] == 1, enumerate(X)))))[:,0], np.array(list(map(lambda elt : elt[1], filter(lambda c: Y[c[0]][1] == 1, enumerate(X)))))[:,1], color='red')\n",
    "plt.scatter(np.array(list(map(lambda elt : elt[1], filter(lambda c: Y[c[0]][2] == 1, enumerate(X)))))[:,0], np.array(list(map(lambda elt : elt[1], filter(lambda c: Y[c[0]][2] == 1, enumerate(X)))))[:,1], color='green')\n",
    "plt.show()\n",
    "plt.clf()"
   ]
  },
  {
   "cell_type": "markdown",
   "metadata": {
    "colab_type": "text",
    "id": "uKFBx2m066i2"
   },
   "source": [
    "### Multi Cross :\n",
    "        Linear Model x3 : KO\n",
    "        MLP (2, ?, ?, 3): OK"
   ]
  },
  {
   "cell_type": "code",
   "execution_count": 19,
   "metadata": {
    "colab": {},
    "colab_type": "code",
    "id": "0ZE8OW-K66i5"
   },
   "outputs": [],
   "source": [
    "X = np.random.random((1000, 2)) * 2.0 - 1.0\n",
    "Y = np.array([[1, 0, 0] if abs(p[0] % 0.5) <= 0.25 and abs(p[1] % 0.5) > 0.25 else [0, 1, 0] if abs(p[0] % 0.5) > 0.25 and abs(p[1] % 0.5) <= 0.25 else [0, 0, 1] for p in X])\n",
    "\n",
    "flattened_X = X.flatten()\n",
    "flattened_Y = Y.flatten()"
   ]
  },
  {
   "cell_type": "markdown",
   "metadata": {},
   "source": [
    "#### MLP"
   ]
  },
  {
   "cell_type": "code",
   "execution_count": 20,
   "metadata": {},
   "outputs": [
    {
     "name": "stdout",
     "output_type": "stream",
     "text": [
      "Test model Training\n",
      "TEST POINt [[-1.   -1.  ]\n",
      " [-1.   -0.96]\n",
      " [-1.   -0.92]\n",
      " ...\n",
      " [ 0.96  0.88]\n",
      " [ 0.96  0.92]\n",
      " [ 0.96  0.96]]\n"
     ]
    },
    {
     "data": {
      "image/png": "[encoded data removed]",
      "text/plain": [
       "<Figure size 432x288 with 1 Axes>"
      ]
     },
     "metadata": {
      "needs_background": "light"
     },
     "output_type": "display_data"
    },
    {
     "data": {
      "text/plain": [
       "<Figure size 432x288 with 0 Axes>"
      ]
     },
     "metadata": {},
     "output_type": "display_data"
    }
   ],
   "source": [
    "npl = list([2, 20, 20, 3])\n",
    "npl_pointer = (c_int64 * 5)(*npl)\n",
    "mlp = my_lib.create_mlp(npl_pointer, len(npl))\n",
    "x_train_pointer = (c_double * len(flattened_X))(*flattened_X)\n",
    "y_train_pointer = (c_double * len(flattened_Y))(*flattened_Y)\n",
    "# Entrainement du modele\n",
    "my_lib.mlp_train_classification(mlp, len(X), x_train_pointer, len(flattened_X), y_train_pointer,\n",
    "                                    len(flattened_Y), 10000, 0.01)\n",
    "for i in range(len(X)):\n",
    "    x_pointer = (c_double * len(X[i]))(*X[i])\n",
    "    my_lib.mlp_classification(mlp, x_pointer, len(X[i]))\n",
    "    predict = my_lib.mlp_classification_image(mlp, x_pointer, len(X[i]))\n",
    "    max_value = my_lib.mlp_classification_max_value(mlp, x_pointer, len(X[i]))\n",
    "#     print(predict, max_value)\n",
    "    \n",
    "#Test du model\n",
    "print(\"Test model Training\")\n",
    "test_points = np.array([[i, j] for i in range(50) for j in range(50)], dtype='float64') / 50.0 * 2.0 -1\n",
    "print(\"TEST POINt\", test_points)\n",
    "test_points_predicted = np.zeros(len(test_points))\n",
    "red_points = []\n",
    "blue_points = []\n",
    "green_points = []\n",
    "for k, test_input_k in enumerate(test_points):\n",
    "    x_pointer = (c_double * len(test_points[k]))(*test_points[k])\n",
    "    predict = my_lib.mlp_classification_image(mlp, x_pointer, len(test_points[k]))\n",
    "    if predict == 0:\n",
    "        blue_points.append(test_input_k)\n",
    "    elif predict == 1:\n",
    "        red_points.append(test_input_k)\n",
    "    else:\n",
    "        green_points.append(test_input_k)\n",
    "\n",
    "red_points = np.array(red_points)\n",
    "blue_points = np.array(blue_points)\n",
    "green_points = np.array(green_points)\n",
    "\n",
    "if len(red_points) > 0:\n",
    "    plt.scatter(red_points[:, 0], red_points[:, 1], color='red', alpha=0.5, s=4)\n",
    "if len(blue_points) > 0:\n",
    "    plt.scatter(blue_points[:, 0], blue_points[:, 1], color='blue', alpha=0.5, s=4)\n",
    "if len(green_points) > 0:\n",
    "    plt.scatter(green_points[:, 0], green_points[:, 1], color='green', alpha=0.5, s=4)\n",
    "plt.scatter(np.array(list(map(lambda elt : elt[1], filter(lambda c: Y[c[0]][0] == 1, enumerate(X)))))[:,0], np.array(list(map(lambda elt : elt[1], filter(lambda c: Y[c[0]][0] == 1, enumerate(X)))))[:,1], color='blue')\n",
    "plt.scatter(np.array(list(map(lambda elt : elt[1], filter(lambda c: Y[c[0]][1] == 1, enumerate(X)))))[:,0], np.array(list(map(lambda elt : elt[1], filter(lambda c: Y[c[0]][1] == 1, enumerate(X)))))[:,1], color='red')\n",
    "plt.scatter(np.array(list(map(lambda elt : elt[1], filter(lambda c: Y[c[0]][2] == 1, enumerate(X)))))[:,0], np.array(list(map(lambda elt : elt[1], filter(lambda c: Y[c[0]][2] == 1, enumerate(X)))))[:,1], color='green')\n",
    "plt.show()\n",
    "plt.clf()"
   ]
  },
  {
   "cell_type": "markdown",
   "metadata": {
    "colab_type": "text",
    "id": "zyrivJMK_WOQ"
   },
   "source": [
    "## Régression"
   ]
  },
  {
   "cell_type": "markdown",
   "metadata": {
    "colab_type": "text",
    "id": "p4EB787A_WOR"
   },
   "source": [
    "### Linear Simple 2D :\n",
    "        Linear Model : OK\n",
    "        MLP (1, 1)   : OK"
   ]
  },
  {
   "cell_type": "code",
   "execution_count": 21,
   "metadata": {
    "colab": {},
    "colab_type": "code",
    "id": "dan93I7A_WOR"
   },
   "outputs": [],
   "source": [
    "X = np.array([\n",
    "      [1],\n",
    "      [2]\n",
    "], dtype='float64')\n",
    "Y = np.array([\n",
    "      2,\n",
    "      3\n",
    "], dtype='float64')\n",
    "flattened_X = X.flatten()"
   ]
  },
  {
   "cell_type": "markdown",
   "metadata": {},
   "source": [
    "#### Simple linear model :"
   ]
  },
  {
   "cell_type": "code",
   "execution_count": 22,
   "metadata": {
    "scrolled": true
   },
   "outputs": [
    {
     "name": "stdout",
     "output_type": "stream",
     "text": [
      "After Training\n",
      "1.004515562397971\n",
      "0.4090311247959417\n"
     ]
    }
   ],
   "source": [
    "#Création du model\n",
    "model = my_lib.create_linear_model(c_int(X.shape[1]))\n",
    "\n",
    "#Entrainement du model\n",
    "my_lib.train_linear_model_regression_python(\n",
    "    model,\n",
    "    flattened_X.ctypes.data_as(POINTER(c_double)),\n",
    "    Y.ctypes.data_as(POINTER(c_double)),\n",
    "    X.shape[0],\n",
    "    X.shape[1]\n",
    ")\n",
    "\n",
    "#Prediction du model\n",
    "print(\"After Training\")\n",
    "for inputs_k in X:\n",
    "    print(my_lib.predict_linear_regression(model, inputs_k.ctypes.data_as(POINTER(c_double)), len(inputs_k)))"
   ]
  },
  {
   "cell_type": "code",
   "execution_count": 23,
   "metadata": {
    "colab": {
     "base_uri": "https://localhost:8080/",
     "height": 287
    },
    "colab_type": "code",
    "id": "6vHbCksm_sQU",
    "outputId": "1e476e34-d3ef-456a-c46e-62de28756946"
   },
   "outputs": [
    {
     "data": {
      "image/png": "[encoded data removed]",
      "text/plain": [
       "<Figure size 432x288 with 1 Axes>"
      ]
     },
     "metadata": {
      "needs_background": "light"
     },
     "output_type": "display_data"
    },
    {
     "data": {
      "text/plain": [
       "<Figure size 432x288 with 0 Axes>"
      ]
     },
     "metadata": {},
     "output_type": "display_data"
    }
   ],
   "source": [
    "plt.scatter(X,Y)\n",
    "plt.show()\n",
    "plt.clf()"
   ]
  },
  {
   "cell_type": "markdown",
   "metadata": {
    "colab_type": "text",
    "id": "CkFb79fq_6ci"
   },
   "source": [
    "### Non Linear Simple 2D :\n",
    "        Linear Model    : OK\n",
    "        MLP (1, ?, 1)   : OK"
   ]
  },
  {
   "cell_type": "code",
   "execution_count": 24,
   "metadata": {
    "colab": {},
    "colab_type": "code",
    "id": "sZqi1Yy3_6cj"
   },
   "outputs": [],
   "source": [
    "X = np.array([\n",
    "      [1],\n",
    "      [2],\n",
    "      [3]\n",
    "], dtype='float64')\n",
    "Y = np.array([\n",
    "      2,\n",
    "      3,\n",
    "      2.5\n",
    "], dtype='float64')\n",
    "flattened_X = X.flatten()"
   ]
  },
  {
   "cell_type": "markdown",
   "metadata": {},
   "source": [
    "#### Simple linear model :"
   ]
  },
  {
   "cell_type": "code",
   "execution_count": 25,
   "metadata": {},
   "outputs": [
    {
     "name": "stdout",
     "output_type": "stream",
     "text": [
      "After Training\n",
      "1.0293687934919484\n",
      "0.9515947298410397\n",
      "0.8738206661901309\n"
     ]
    }
   ],
   "source": [
    "#### Simple linear model :#Création du model\n",
    "model = my_lib.create_linear_model(c_int(X.shape[1]))\n",
    "\n",
    "#Entrainement du model\n",
    "my_lib.train_linear_model_regression_python(\n",
    "    model,\n",
    "    flattened_X.ctypes.data_as(POINTER(c_double)),\n",
    "    Y.ctypes.data_as(POINTER(c_double)),\n",
    "    X.shape[0],\n",
    "    X.shape[1]\n",
    ")\n",
    "\n",
    "#Prediction du model\n",
    "print(\"After Training\")\n",
    "for inputs_k in X:\n",
    "    print(my_lib.predict_linear_regression(model, inputs_k.ctypes.data_as(POINTER(c_double)), len(inputs_k)))"
   ]
  },
  {
   "cell_type": "code",
   "execution_count": 26,
   "metadata": {
    "colab": {
     "base_uri": "https://localhost:8080/",
     "height": 287
    },
    "colab_type": "code",
    "id": "NSqXDh6c_6ck",
    "outputId": "5e07562b-4b2f-4dc9-b4bd-263ac1b778fd"
   },
   "outputs": [
    {
     "data": {
      "image/png": "[encoded data removed]",
      "text/plain": [
       "<Figure size 432x288 with 1 Axes>"
      ]
     },
     "metadata": {
      "needs_background": "light"
     },
     "output_type": "display_data"
    },
    {
     "data": {
      "text/plain": [
       "<Figure size 432x288 with 0 Axes>"
      ]
     },
     "metadata": {},
     "output_type": "display_data"
    }
   ],
   "source": [
    "plt.scatter(X,Y)\n",
    "plt.show()\n",
    "plt.clf()"
   ]
  },
  {
   "cell_type": "markdown",
   "metadata": {
    "colab_type": "text",
    "id": "WT1s5lZxAJuL"
   },
   "source": [
    "### Linear Simple 3D :\n",
    "        Linear Model    : OK\n",
    "        MLP (2, 1)      : OK"
   ]
  },
  {
   "cell_type": "code",
   "execution_count": 27,
   "metadata": {
    "colab": {},
    "colab_type": "code",
    "id": "KL_IanGMAJuM"
   },
   "outputs": [],
   "source": [
    "X = np.array([\n",
    "      [1, 1],\n",
    "      [2, 2],\n",
    "      [3, 1]\n",
    "], dtype='float64')\n",
    "Y = np.array([\n",
    "      2,\n",
    "      3,\n",
    "      2.5\n",
    "], dtype='float64')\n",
    "flattened_X = X.flatten()"
   ]
  },
  {
   "cell_type": "markdown",
   "metadata": {},
   "source": [
    "#### Simple linear model :"
   ]
  },
  {
   "cell_type": "code",
   "execution_count": 28,
   "metadata": {},
   "outputs": [
    {
     "name": "stdout",
     "output_type": "stream",
     "text": [
      "After Training\n",
      "2.775520762922974\n",
      "4.651041525845948\n",
      "4.575520762922974\n"
     ]
    }
   ],
   "source": [
    "#Création du model\n",
    "model = my_lib.create_linear_model(c_int(X.shape[1]))\n",
    "\n",
    "#Entrainement du model\n",
    "my_lib.train_linear_model_regression_python(\n",
    "    model,\n",
    "    flattened_X.ctypes.data_as(POINTER(c_double)),\n",
    "    Y.ctypes.data_as(POINTER(c_double)),\n",
    "    X.shape[0],\n",
    "    X.shape[1]\n",
    ")\n",
    "\n",
    "#Prediction du model\n",
    "print(\"After Training\")\n",
    "for inputs_k in X:\n",
    "    print(my_lib.predict_linear_regression(model, inputs_k.ctypes.data_as(POINTER(c_double)), len(inputs_k)))"
   ]
  },
  {
   "cell_type": "code",
   "execution_count": 29,
   "metadata": {
    "colab": {
     "base_uri": "https://localhost:8080/",
     "height": 337
    },
    "colab_type": "code",
    "id": "91dQpMIzAJuO",
    "outputId": "c1681d4c-3b99-429c-fa3f-6b8ef879e0de"
   },
   "outputs": [
    {
     "data": {
      "image/png": "[encoded data removed]",
      "text/plain": [
       "<Figure size 432x288 with 1 Axes>"
      ]
     },
     "metadata": {
      "needs_background": "light"
     },
     "output_type": "display_data"
    },
    {
     "data": {
      "text/plain": [
       "<Figure size 432x288 with 0 Axes>"
      ]
     },
     "metadata": {},
     "output_type": "display_data"
    }
   ],
   "source": [
    "from mpl_toolkits.mplot3d import Axes3D\n",
    "fig = plt.figure()\n",
    "ax = Axes3D(fig)\n",
    "ax.scatter(X[:,0],X[:,1],Y)\n",
    "plt.show()\n",
    "plt.clf()"
   ]
  },
  {
   "cell_type": "markdown",
   "metadata": {
    "colab_type": "text",
    "id": "kO361TllBqbm"
   },
   "source": [
    "### Linear Tricky 3D :\n",
    "        Linear Model    : OK\n",
    "        MLP (2, 1)      : OK"
   ]
  },
  {
   "cell_type": "code",
   "execution_count": 30,
   "metadata": {
    "colab": {},
    "colab_type": "code",
    "id": "nR_i7qLxBqbm"
   },
   "outputs": [],
   "source": [
    "X = np.array([\n",
    "      [1, 1],\n",
    "      [2, 2],\n",
    "      [3, 3]\n",
    "], dtype='float64')\n",
    "Y = np.array([\n",
    "      1,\n",
    "      2,\n",
    "      3\n",
    "], dtype='float64')\n",
    "flattened_X = X.flatten()"
   ]
  },
  {
   "cell_type": "markdown",
   "metadata": {},
   "source": [
    "#### Simple linear model :"
   ]
  },
  {
   "cell_type": "code",
   "execution_count": 31,
   "metadata": {},
   "outputs": [
    {
     "name": "stdout",
     "output_type": "stream",
     "text": [
      "After Training\n",
      "1.5818661241952134\n",
      "2.163732248390427\n",
      "2.7455983725856403\n"
     ]
    }
   ],
   "source": [
    "#Création du model\n",
    "model = my_lib.create_linear_model(c_int(X.shape[1]))\n",
    "\n",
    "#Entrainement du model\n",
    "my_lib.train_linear_model_regression_python(\n",
    "    model,\n",
    "    flattened_X.ctypes.data_as(POINTER(c_double)),\n",
    "    Y.ctypes.data_as(POINTER(c_double)),\n",
    "    X.shape[0],\n",
    "    X.shape[1]\n",
    ")\n",
    "\n",
    "#Prediction du model\n",
    "print(\"After Training\")\n",
    "for inputs_k in X:\n",
    "    print(my_lib.predict_linear_regression(model, inputs_k.ctypes.data_as(POINTER(c_double)), len(inputs_k)))"
   ]
  },
  {
   "cell_type": "code",
   "execution_count": 32,
   "metadata": {
    "colab": {
     "base_uri": "https://localhost:8080/",
     "height": 337
    },
    "colab_type": "code",
    "id": "dHriVYrKBqbo",
    "outputId": "681a33c5-8ad5-427a-beea-eaf2a4e268ac"
   },
   "outputs": [
    {
     "data": {
      "image/png": "[encoded data removed]",
      "text/plain": [
       "<Figure size 432x288 with 1 Axes>"
      ]
     },
     "metadata": {
      "needs_background": "light"
     },
     "output_type": "display_data"
    },
    {
     "data": {
      "text/plain": [
       "<Figure size 432x288 with 0 Axes>"
      ]
     },
     "metadata": {},
     "output_type": "display_data"
    }
   ],
   "source": [
    "from mpl_toolkits.mplot3d import Axes3D\n",
    "fig = plt.figure()\n",
    "ax = Axes3D(fig)\n",
    "ax.scatter(X[:,0],X[:,1],Y)\n",
    "plt.show()\n",
    "plt.clf()"
   ]
  },
  {
   "cell_type": "markdown",
   "metadata": {
    "colab_type": "text",
    "id": "H_h0_vtCBEzk"
   },
   "source": [
    "### Non Linear Simple 3D :\n",
    "        Linear Model       : KO\n",
    "        MLP (2, 2, 1)      : OK"
   ]
  },
  {
   "cell_type": "code",
   "execution_count": 33,
   "metadata": {
    "colab": {},
    "colab_type": "code",
    "id": "ij70I1H9BEzk"
   },
   "outputs": [],
   "source": [
    "X = np.array([\n",
    "      [1, 0],\n",
    "      [0, 1],\n",
    "      [1, 1],\n",
    "      [0, 0],\n",
    "], dtype='float64')\n",
    "Y = np.array([\n",
    "      2,\n",
    "      1,\n",
    "      -2,\n",
    "      -1\n",
    "], dtype='float64')\n",
    "flattened_X = X.flatten()"
   ]
  },
  {
   "cell_type": "markdown",
   "metadata": {},
   "source": [
    "#### Simple linear model :"
   ]
  },
  {
   "cell_type": "code",
   "execution_count": 34,
   "metadata": {},
   "outputs": [
    {
     "name": "stdout",
     "output_type": "stream",
     "text": [
      "After Training\n",
      "-0.6666666666666666\n",
      "-1.1568098675684853\n",
      "-1.4901432009018185\n",
      "-0.3333333333333333\n"
     ]
    }
   ],
   "source": [
    "#Création du model\n",
    "model = my_lib.create_linear_model(c_int(X.shape[1]))\n",
    "\n",
    "#Entrainement du model\n",
    "my_lib.train_linear_model_regression_python(\n",
    "    model,\n",
    "    flattened_X.ctypes.data_as(POINTER(c_double)),\n",
    "    Y.ctypes.data_as(POINTER(c_double)),\n",
    "    X.shape[0],\n",
    "    X.shape[1]\n",
    ")\n",
    "\n",
    "#Prediction du model\n",
    "print(\"After Training\")\n",
    "for inputs_k in X:\n",
    "    print(my_lib.predict_linear_regression(model, inputs_k.ctypes.data_as(POINTER(c_double)), len(inputs_k)))"
   ]
  },
  {
   "cell_type": "code",
   "execution_count": 35,
   "metadata": {
    "colab": {
     "base_uri": "https://localhost:8080/",
     "height": 337
    },
    "colab_type": "code",
    "id": "N3VDOby8BEzn",
    "outputId": "ef903fb3-08ed-4afd-f1e0-bcaed828b118",
    "scrolled": true
   },
   "outputs": [
    {
     "data": {
      "image/png": "[encoded data removed]",
      "text/plain": [
       "<Figure size 432x288 with 1 Axes>"
      ]
     },
     "metadata": {
      "needs_background": "light"
     },
     "output_type": "display_data"
    },
    {
     "data": {
      "text/plain": [
       "<Figure size 432x288 with 0 Axes>"
      ]
     },
     "metadata": {},
     "output_type": "display_data"
    }
   ],
   "source": [
    "from mpl_toolkits.mplot3d import Axes3D\n",
    "fig = plt.figure()\n",
    "ax = Axes3D(fig)\n",
    "ax.scatter(X[:,0],X[:,1],Y)\n",
    "plt.show()\n",
    "plt.clf()"
   ]
  }
 ],
 "metadata": {
  "colab": {
   "collapsed_sections": [],
   "name": "2019-3A-IBD-TestCases.ipynb",
   "provenance": [],
   "version": "0.3.2"
  },
  "kernelspec": {
   "display_name": "Python 3",
   "language": "python",
   "name": "python3"
  },
  "language_info": {
   "codemirror_mode": {
    "name": "ipython",
    "version": 3
   },
   "file_extension": ".py",
   "mimetype": "text/x-python",
   "name": "python",
   "nbconvert_exporter": "python",
   "pygments_lexer": "ipython3",
   "version": "3.7.7"
  }
 },
 "nbformat": 4,
 "nbformat_minor": 1
}
